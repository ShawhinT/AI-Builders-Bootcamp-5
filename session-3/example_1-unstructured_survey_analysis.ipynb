{
 "cells": [
  {
   "cell_type": "markdown",
   "id": "c4cc4c23-5fff-4d19-9f1b-bdcb61f334bd",
   "metadata": {},
   "source": [
    "# Analyzing Unstructured Survey Responses with Text Embeddings\n",
    "## ABB #5 - Session 3\n",
    "\n",
    "Code authored by: Shaw Talebi"
   ]
  },
  {
   "cell_type": "markdown",
   "id": "fbe53a1b-8a81-4996-b125-6bf7350d727e",
   "metadata": {},
   "source": [
    "### imports"
   ]
  },
  {
   "cell_type": "code",
   "execution_count": 1,
   "id": "4287b395-8c08-4d0d-ab82-c5420a70bf6f",
   "metadata": {},
   "outputs": [],
   "source": [
    "import os \n",
    "\n",
    "import pandas as pd\n",
    "from sentence_transformers import SentenceTransformer\n",
    "os.environ[\"TOKENIZERS_PARALLELISM\"] = \"false\" # to supress specific warning\n",
    "\n",
    "from sklearn.decomposition import PCA\n",
    "from sklearn.cluster import KMeans\n",
    "import matplotlib.pyplot as plt\n",
    "import numpy as np\n",
    "\n",
    "from openai import OpenAI\n",
    "from dotenv import load_dotenv"
   ]
  },
  {
   "cell_type": "code",
   "execution_count": 2,
   "id": "f454b4e5-66a3-44a6-964d-3afb79991c83",
   "metadata": {},
   "outputs": [],
   "source": [
    "# import sk from .env file\n",
    "load_dotenv()\n",
    "\n",
    "# setup api client\n",
    "client = OpenAI(api_key=os.getenv(\"OPENAI_API_KEY\"))"
   ]
  },
  {
   "cell_type": "markdown",
   "id": "8ddd565d-6619-48d5-96f7-cafbc2cbfb98",
   "metadata": {},
   "source": [
    "### functions"
   ]
  },
  {
   "cell_type": "code",
   "execution_count": 3,
   "id": "1869252b-519a-436a-84c7-bbffb6ae53bc",
   "metadata": {
    "jupyter": {
     "source_hidden": true
    }
   },
   "outputs": [],
   "source": [
    "def format_responses(response_series):\n",
    "    \"\"\"\n",
    "        Format responses from pandas series into a string for an LLM to understand\n",
    "    \"\"\"\n",
    "    \n",
    "    responses_string = \"\"\n",
    "    for response in response_series:\n",
    "        responses_string = responses_string + \"- \" + str(response) + \"\\n\"\n",
    "\n",
    "    return responses_string"
   ]
  },
  {
   "cell_type": "code",
   "execution_count": 4,
   "id": "624579d6-0bf1-4454-8d59-c3b1cf9b1d20",
   "metadata": {
    "jupyter": {
     "source_hidden": true
    }
   },
   "outputs": [],
   "source": [
    "def summarize_responses(client, response_series):\n",
    "    \"\"\"\n",
    "        Summarize survey dream outcomes with GPT-4o-mini\n",
    "    \"\"\"\n",
    "\n",
    "    # construct prompt\n",
    "    responses_string = format_responses(response_series)\n",
    "    prompt = f\"\"\"Given the following pre-course survey responses to the question \"What is your dream outcome for this course?\", geneate a single label that describes the respondants e.g. product entrepreners, career developers, etc.: \n",
    "    {responses_string}\n",
    "\n",
    "    Additional guidelines:\n",
    "    - ONLY return the label, nothing else.\n",
    "    \"\"\"\n",
    "    \n",
    "    # make api call\n",
    "    response = client.chat.completions.create(\n",
    "        model=\"gpt-4o\",\n",
    "        messages=[\n",
    "            {\"role\": \"user\", \"content\": prompt}\n",
    "        ], \n",
    "        temperature = 0.25\n",
    "    )\n",
    "    \n",
    "    # extract response\n",
    "    summary = response.choices[0].message.content\n",
    "    return summary"
   ]
  },
  {
   "cell_type": "markdown",
   "id": "50f6b57a-1f2f-46c0-aedb-547dcbb799d2",
   "metadata": {},
   "source": [
    "### load survey data"
   ]
  },
  {
   "cell_type": "code",
   "execution_count": 5,
   "id": "7141db56-19ec-429f-8af0-97339ee5a425",
   "metadata": {},
   "outputs": [
    {
     "name": "stdout",
     "output_type": "stream",
     "text": [
      "(104, 6)\n"
     ]
    },
    {
     "data": {
      "text/html": [
       "<div>\n",
       "<style scoped>\n",
       "    .dataframe tbody tr th:only-of-type {\n",
       "        vertical-align: middle;\n",
       "    }\n",
       "\n",
       "    .dataframe tbody tr th {\n",
       "        vertical-align: top;\n",
       "    }\n",
       "\n",
       "    .dataframe thead th {\n",
       "        text-align: right;\n",
       "    }\n",
       "</style>\n",
       "<table border=\"1\" class=\"dataframe\">\n",
       "  <thead>\n",
       "    <tr style=\"text-align: right;\">\n",
       "      <th></th>\n",
       "      <th>timestamp</th>\n",
       "      <th>ai_exp</th>\n",
       "      <th>prog_exp</th>\n",
       "      <th>prog_tools</th>\n",
       "      <th>dream_outcome</th>\n",
       "      <th>availability</th>\n",
       "    </tr>\n",
       "  </thead>\n",
       "  <tbody>\n",
       "    <tr>\n",
       "      <th>0</th>\n",
       "      <td>2024/10/23 3:50:16 PM CST</td>\n",
       "      <td>1-3 years</td>\n",
       "      <td>4-6 years</td>\n",
       "      <td>Python</td>\n",
       "      <td>Hands on projects,  and switch to Data science...</td>\n",
       "      <td>6-10</td>\n",
       "    </tr>\n",
       "    <tr>\n",
       "      <th>1</th>\n",
       "      <td>2024/10/23 11:10:31 PM CST</td>\n",
       "      <td>1-3 years</td>\n",
       "      <td>4-6 years</td>\n",
       "      <td>Python</td>\n",
       "      <td>Get to know Shaw better! Plus, have a clear pa...</td>\n",
       "      <td>5</td>\n",
       "    </tr>\n",
       "    <tr>\n",
       "      <th>2</th>\n",
       "      <td>2024/10/24 2:28:16 AM CST</td>\n",
       "      <td>&lt;1 year</td>\n",
       "      <td>&lt;1 year</td>\n",
       "      <td>Python</td>\n",
       "      <td>Fundamentals understanding, Hands on skills, s...</td>\n",
       "      <td>It depends if I find it interesting</td>\n",
       "    </tr>\n",
       "    <tr>\n",
       "      <th>3</th>\n",
       "      <td>2024/10/24 3:18:45 AM CST</td>\n",
       "      <td>4-6 years</td>\n",
       "      <td>7+ years</td>\n",
       "      <td>Python</td>\n",
       "      <td>Build multiple AI applications</td>\n",
       "      <td>2</td>\n",
       "    </tr>\n",
       "    <tr>\n",
       "      <th>4</th>\n",
       "      <td>2024/10/24 6:26:56 AM CST</td>\n",
       "      <td>&lt;1 year</td>\n",
       "      <td>7+ years</td>\n",
       "      <td>PHP, Javascript</td>\n",
       "      <td>I would like to learn how to practically setup...</td>\n",
       "      <td>10</td>\n",
       "    </tr>\n",
       "  </tbody>\n",
       "</table>\n",
       "</div>"
      ],
      "text/plain": [
       "                    timestamp     ai_exp   prog_exp       prog_tools  \\\n",
       "0   2024/10/23 3:50:16 PM CST  1-3 years  4-6 years           Python   \n",
       "1  2024/10/23 11:10:31 PM CST  1-3 years  4-6 years           Python   \n",
       "2   2024/10/24 2:28:16 AM CST    <1 year    <1 year           Python   \n",
       "3   2024/10/24 3:18:45 AM CST  4-6 years   7+ years           Python   \n",
       "4   2024/10/24 6:26:56 AM CST    <1 year   7+ years  PHP, Javascript   \n",
       "\n",
       "                                       dream_outcome  \\\n",
       "0  Hands on projects,  and switch to Data science...   \n",
       "1  Get to know Shaw better! Plus, have a clear pa...   \n",
       "2  Fundamentals understanding, Hands on skills, s...   \n",
       "3                     Build multiple AI applications   \n",
       "4  I would like to learn how to practically setup...   \n",
       "\n",
       "                          availability  \n",
       "0                                 6-10  \n",
       "1                                    5  \n",
       "2  It depends if I find it interesting  \n",
       "3                                    2  \n",
       "4                                   10  "
      ]
     },
     "execution_count": 5,
     "metadata": {},
     "output_type": "execute_result"
    }
   ],
   "source": [
    "df = pd.read_csv('data/survey.csv')\n",
    "df.columns = [\"timestamp\", \"ai_exp\", \"prog_exp\", \"prog_tools\", \"dream_outcome\", \"availability\"]\n",
    "print(df.shape)\n",
    "df.head()"
   ]
  },
  {
   "cell_type": "code",
   "execution_count": 6,
   "id": "1bb5f751-c126-42b0-a2f7-c08acff03346",
   "metadata": {},
   "outputs": [
    {
     "data": {
      "text/plain": [
       "Text(0.5, 1.0, 'Response lengths')"
      ]
     },
     "execution_count": 6,
     "metadata": {},
     "output_type": "execute_result"
    },
    {
     "data": {
      "image/png": "[encoded data removed]",
      "text/plain": [
       "<Figure size 640x480 with 1 Axes>"
      ]
     },
     "metadata": {},
     "output_type": "display_data"
    }
   ],
   "source": [
    "df['dream_outcome'].str.len().hist()\n",
    "plt.title(\"Response lengths\")"
   ]
  },
  {
   "cell_type": "markdown",
   "id": "429470a0-d9bb-430f-9987-4cb68f2bed1b",
   "metadata": {},
   "source": [
    "### encode dream outcomes"
   ]
  },
  {
   "cell_type": "code",
   "execution_count": 7,
   "id": "276dfad5-4c14-4085-9a94-3dd6c224e42b",
   "metadata": {},
   "outputs": [],
   "source": [
    "# load model\n",
    "model = SentenceTransformer(\"all-distilroberta-v1\")"
   ]
  },
  {
   "cell_type": "code",
   "execution_count": 8,
   "id": "79f1c389-1b50-4855-939f-6aa34f02113d",
   "metadata": {},
   "outputs": [
    {
     "name": "stdout",
     "output_type": "stream",
     "text": [
      "(104, 768)\n"
     ]
    }
   ],
   "source": [
    "# compute embeddings\n",
    "embeddings = model.encode(df['dream_outcome'])\n",
    "print(embeddings.shape)"
   ]
  },
  {
   "cell_type": "code",
   "execution_count": 9,
   "id": "2bceaddb-b8d6-46ff-a9c6-53fa838c8ee4",
   "metadata": {
    "jupyter": {
     "source_hidden": true
    }
   },
   "outputs": [],
   "source": [
    "# # openai embeddings\n",
    "# openai_embedding = client.embeddings.create(input = df['dream_outcome'], model='text-embedding-3-small')\n",
    "\n",
    "# embedding_list = [embedding_object.embedding for embedding_object in openai_embedding.data]\n",
    "# embeddings_oai = np.array(embedding_list)\n",
    "# print(embeddings_oai.shape)"
   ]
  },
  {
   "cell_type": "code",
   "execution_count": 10,
   "id": "28f3aae0-ab69-4eab-87f2-0bfda7022839",
   "metadata": {
    "jupyter": {
     "source_hidden": true
    }
   },
   "outputs": [],
   "source": [
    "# embeddings = embeddings_oai"
   ]
  },
  {
   "cell_type": "markdown",
   "id": "c395470a-7e97-4a9a-aedc-75402cb66f9b",
   "metadata": {},
   "source": [
    "### Cluster responses based on similarity"
   ]
  },
  {
   "cell_type": "code",
   "execution_count": 11,
   "id": "81073748-ee71-4be5-80c2-662ae589102a",
   "metadata": {},
   "outputs": [
    {
     "data": {
      "image/png": "[encoded data removed]",
      "text/plain": [
       "<Figure size 640x480 with 1 Axes>"
      ]
     },
     "metadata": {},
     "output_type": "display_data"
    }
   ],
   "source": [
    "N = 4\n",
    "X = PCA(n_components=10).fit_transform(embeddings)\n",
    "kmeans = KMeans(n_clusters=N, random_state=0, n_init=\"auto\").fit(embeddings)\n",
    "\n",
    "plt.figure(figsize=(8, 6), dpi=80)\n",
    "plt.rcParams.update({'font.size': 14})\n",
    "marker_list = ['.', 'o', 'v', '^', '<', '>', '1', '2']\n",
    "\n",
    "for i in range(N):\n",
    "    plt.scatter(X[kmeans.labels_==i, 0], X[kmeans.labels_==i, 1], label=f\"Cluster {i+1}\", s=75, marker=marker_list[i])\n",
    "\n",
    "plt.legend(bbox_to_anchor=(1.05, 1), loc='upper left')\n",
    "plt.title(\"Dream Outcomes\")\n",
    "plt.xlabel(\"PC 1\")\n",
    "plt.ylabel(\"PC 2\")\n",
    "plt.show()"
   ]
  },
  {
   "cell_type": "markdown",
   "id": "171c5969-7f12-4570-a6f3-11ab4dbc72a0",
   "metadata": {},
   "source": [
    "### Summarize responses by cluster"
   ]
  },
  {
   "cell_type": "code",
   "execution_count": 12,
   "id": "c66f902b-7ae9-40e9-9d6a-32b9c9316a1e",
   "metadata": {},
   "outputs": [
    {
     "name": "stdout",
     "output_type": "stream",
     "text": [
      "Cluster 1 | Size: 2\n",
      "Description: Aspiring Developers\n",
      "Responses:\n",
      "- Create some proof of concepts\n",
      "- to be able to reproduce an run by myself the class exercises\n",
      "\n",
      "-------------------------------------\n",
      "Cluster 2 | Size: 35\n",
      "Description: Career Developers\n",
      "Responses:\n",
      "- Hands on projects,  and switch to Data science career path from research\n",
      "- Get to know Shaw better! Plus, have a clear path with resources to guide you on where to go and what to do for the future\n",
      "- Fundamentals understanding, Hands on skills, small projects running in diff frameworks, create a small GH portfolio.\n",
      "- Ability to train model based on a data set, and how to do predictive analysis.\n",
      "- Learn to decide and advice between different data science archictures and options\n",
      "- Build an app\n",
      "- Get a new job\n",
      "- Build cool products\n",
      "- Be able to be comfortable with GenAi\n",
      "- A certificate to showcase my new skills,  A jump start to do my own programing and be able to communicate with programmers\n",
      "- Setup my own environment to compare Machine Learning statistics created by my companies Data Scientists against my own environment.\n",
      "- Build and launch a product\n",
      "- Landing a new job\n",
      "- 1) build GPT that accesses functions and APIs, 2) hands-on fine-tune a model using LoRA 3) write and debug Python code (with AI assistance) that accesses ChatGPT, Perplexity and Google search,  4) build working agent(s) that can output results in less than 10 seconds 5) possibly use a RAG efficiently for booklength PDF texts\n",
      "- I want to build my own MicroSaaS products\n",
      "- 1) A sound understanding of AI / ML concepts and vocabulary (and perhaps how it can be applied to Enterprise Business Clients),  2) Python programming skills, 3) end-to-end project work.\n",
      "- Polish skills and get ideas\n",
      "- Land highly paid development position\n",
      "- To build some things! And be able to leverage those concepts towards building AI-driven processes at work.\n",
      "- Be able to build what I want quickly\n",
      "- Getting ideas and skills to build a port-folio\n",
      "- Create connections valuable for career-growth (by showing value in the form of technical expertise through an interesting project)\n",
      "- Just one more step towards understanding deployment strategies, best practices, use cases, etc.  I'm just soaking up knowledge and asking questions at this stage(we can call this the discovery stage).  :)\n",
      "- Expand my skill set as a software engineer\n",
      "- To be able to apply what I've learned to a practical problem.\n",
      "- Being able to build multiple RAG agents\n",
      "- Learn new tricks\n",
      "- Hands on experience \n",
      "- To be able to build something useful.\n",
      "- A plan to develop a profitable product/software\n",
      "- round and sharpen my skills and build up my portfolio as a consultant. if possible to gain the tips and tricks about how to get projects as a solopreneur/consultant\n",
      "- Creating a small portfolio and understanding better agents.Being able to discuss ML and AI solutions and to support companies in implementing them. In particular, I wished to deploy a little app allowing reasoning about images with Llama 3, for instance for fast cataloguing of collections of physical items. Also, I have a pending project, about interviews on Youtube to musicians and scholars discussing music improvisation techniques, which would bring together audio transcription, supporting highly specific terminology, and RAG. This is actually something you kindly offered me some advice about a few years ago. I never progressed beyond correcting the transcription of several interviews, and creating an extensive list of specific entities appearing in the interviews (musical concepts, places, musicians and similar). I also have an interest in psychotherapy, pedagogy and GIS for nature conservation, which might bring me some ideas for projects and products.\n",
      "- Pass interviews, seamlessly start developing solutions given any problem in interview, learn analytics. Build a portfolio of projects to showcase to companies. Be able to get the confidence to create a startup, implement ideas I have.\n",
      "- Able create my own agents and build confidence to keep up witht he\n",
      "- Produce projects that are applicable to my field of IT Operations and enhance my portfolio/resume in a way that makes me attractive in the job market. \n",
      "\n",
      "-------------------------------------\n",
      "Cluster 3 | Size: 12\n",
      "Description: AI and LLM Developers\n",
      "Responses:\n",
      "- I would like to learn how to practically setup LLM application in a production environment so that I can start creating some AI web apps for internal and external use. \n",
      "- able to create a LLM from scratch\n",
      "- Being able to implement llms into projects \n",
      "- Be able to train a model and have some practical usage of llm.\n",
      "- Fully understand AI and LLM, and how to build one using Python\n",
      "- Should be able to build an LLM based solution end2end\n",
      "- Have a strong foundation on GenAI and LLMs\n",
      "- Strong Fundamentals on GenAI and LLMs\n",
      "- To be able to set up my own LLM + RAG system using my own data\n",
      "- I want to be able to use scripts to automate some of my work and build useful small tools for myself. I'd love to know what LLM frameworks and techniques are out there that would extend my course knowledge. Like a study guide for what's important to advance in LLM engineering\n",
      "- Learn how to apply ML on network data, to detect anomalies in Telecommunication Networks\n",
      "- To at least have a POC of a LLM app..\n",
      "\n",
      "-------------------------------------\n",
      "Cluster 4 | Size: 55\n",
      "Description: AI Application Developers\n",
      "Responses:\n",
      "- Build multiple AI applications\n",
      "- Develop a good foundation in AI/ML. \n",
      "- I love to figure out good strategies to use in my software solutions using AI\n",
      "- Implement practical AI cases\n",
      "- Foundation in AI/ML\n",
      "- Land a program manager job working with AI product/program\n",
      "- At my former job I had a coworker who had the tedious task of making a weekly report summarizing local news for the boss. At the time I was completely sure that was something AI could do, but I didn't have the time nor the knowledge to develop such a thing. I constantly find myself having ideas like this, so a dream outcome would be finishing the course with at least a roadmap for making such an app.\n",
      "- Be able to create and deploy my own Ai powered apps\n",
      "- Getting skills to build AI technologies for many projects\n",
      "- to deepen my understanding of advanced AI techniques.And I also aim to expand my professional network and collaborate with like-minded individuals to explore new opportunities in the AI landscape.\n",
      "- Learn to identify the ML solution and lead projects based on AI\n",
      "- Able to put into practice AI/ML for real bunsiess solutions\n",
      "- Master AI powered productivity tools to streamline regulatory compliance work\n",
      "- Learn Python related to AI. Implement prototypes.\n",
      "- Be able to comfortably add AI into daily or business use cases \n",
      "- Build my own AI product with the AI services available these days\n",
      "- I love to apply ai solution to existing and future back-end projects\n",
      "- I would like to land into AI Product Management\n",
      "- I have the skills and approach to build AI apps\n",
      "- Get a job building AI app\n",
      "- Be able to use AI and integrate it into solutions\n",
      "- expert in AI/ML\n",
      "- Developing my own products that use ML and AI, and managing an AI project from end to end\n",
      "- Learn and build skills in artificial intelligence, upscale myself to prep for next generation business demands\n",
      "- Get some hands on experience into using AI tools\n",
      "- Build real time projects using AI\n",
      "- Build AI apps, Land into AI Product Manager job, Practice designing app using UX and Prototyping. Lastly, learn Agentic AI as well. Too many goals but that's fine, I already started 2 months back. I know I can do by executing AI use cases\n",
      "- Understand the building blocks and fundamentals of how to create AI enabled products\n",
      "- build an AI project from scratch\n",
      "- network people to work with, learn modern AI tools\n",
      "- Being able to build AI solutions \n",
      "- Get a practical perspective on an AI application development, from concept to deployment\n",
      "- Become more proficient at building AI applications and use that to get higher salary\n",
      "- become proficient in Python and AI projects building for a career change\n",
      "- Able to move up the learning curve (identify specific tools/techniques, understand how to apply them) for a couple of specific AI projects I am interested in (research + browser use type marketing)\n",
      "- (1) Build a workflow to automate processes at work (2) Ship a prototype for a side-project idea that helps Sales team with competitive market research - an AI-enabled version of Klue\n",
      "- Be able to implement many ideas we already have to leverage AI models\n",
      "- General: Learn how can I implement AI in general and the latest tools avalaible.\n",
      "Specific: Being able to use different non-public videos as a source to a create a \"chatbot\" or \"LLM\". Then the answers will come exclusively from the videos. If possible, the answers will have the references used to answer the different questions (like Perplexity), but the reference is a video or part of the videos.\n",
      "- Become an expert at AI/ML\n",
      "- Gain a better understanding of AI and feel comfortable building with it\n",
      "- Understand how to build AI data processing pipelines and be closer to implementation over using third party APIs or libraries\n",
      "- Feel comfortable working on AI/ML from scratch. \n",
      "- Learn to leverage A.I. well enough to create real-world applications.\n",
      "- Deploy AI features to production\n",
      "- Unsure, but some hands-on skills or clearer understanding of coding for AI.\n",
      "- Get better at AI app development\n",
      "- To have a comprehensive understanding of building and deploying AI applications\n",
      "- Augment my AI Vibe-Coding Skills with some additional AI programming skills. \n",
      "- Understand AI better and increase revenue \n",
      "- Establish foundations for AI modelling and building so I can apply it in practice in my work function\n",
      "- A better understanding of how to leverage AI in practice\n",
      "- To be able to quickly build software with AI integration \n",
      "- Creating meaningful AI powered capabilities for my organization (including developing the strategy, not necessarily only building the applications)\n",
      "- Ability to teach an Introduction to AI course at the undergraduate level\n",
      "- becoming confident and hands on to build basic ai agents myself\n",
      "\n",
      "-------------------------------------\n"
     ]
    }
   ],
   "source": [
    "for i in range(N):\n",
    "    response_series = df['dream_outcome'][kmeans.labels_==i]\n",
    "    print(\"Cluster\", i+1, \"| Size:\", len(response_series))\n",
    "    print(\"Description:\", summarize_responses(client, response_series))\n",
    "    print(\"Responses:\")\n",
    "    print(format_responses(response_series))\n",
    "    print(\"-------------------------------------\")"
   ]
  },
  {
   "cell_type": "code",
   "execution_count": null,
   "id": "eb7d5eeb-df7d-4aa2-91b5-9ff51979c7fd",
   "metadata": {},
   "outputs": [],
   "source": []
  },
  {
   "cell_type": "code",
   "execution_count": null,
   "id": "13edc4e6-c8a3-4e46-a615-d238d4db894a",
   "metadata": {},
   "outputs": [],
   "source": []
  }
 ],
 "metadata": {
  "kernelspec": {
   "display_name": "Python 3 (ipykernel)",
   "language": "python",
   "name": "python3"
  },
  "language_info": {
   "codemirror_mode": {
    "name": "ipython",
    "version": 3
   },
   "file_extension": ".py",
   "mimetype": "text/x-python",
   "name": "python",
   "nbconvert_exporter": "python",
   "pygments_lexer": "ipython3",
   "version": "3.12.10"
  }
 },
 "nbformat": 4,
 "nbformat_minor": 5
}
