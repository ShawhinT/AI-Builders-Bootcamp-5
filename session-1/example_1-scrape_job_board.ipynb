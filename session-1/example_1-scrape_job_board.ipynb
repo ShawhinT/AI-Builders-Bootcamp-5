{
 "cells": [
  {
   "cell_type": "markdown",
   "id": "3e8f4dea-f94e-4340-bb18-94cd357922f5",
   "metadata": {},
   "source": [
    "# Scraping AI Job Board with Python\n",
    "## ABB #5 - Session 1\n",
    "\n",
    "Code authored by: Shaw Talebi"
   ]
  },
  {
   "cell_type": "markdown",
   "id": "f869ca1f-065f-491e-8949-175c28cfaacb",
   "metadata": {},
   "source": [
    "### imports"
   ]
  },
  {
   "cell_type": "code",
   "execution_count": 1,
   "id": "c390282b-88ed-46a9-b73c-7fd15404740b",
   "metadata": {},
   "outputs": [],
   "source": [
    "import requests\n",
    "from bs4 import BeautifulSoup\n",
    "import json\n",
    "import pandas as pd"
   ]
  },
  {
   "cell_type": "markdown",
   "id": "87bd67c0-432b-4ac2-aaea-7ba59023bcbc",
   "metadata": {},
   "source": [
    "### 1) extract job listing links"
   ]
  },
  {
   "cell_type": "code",
   "execution_count": 2,
   "id": "3e3e782d-6069-4229-a33b-7bef4edf53c9",
   "metadata": {},
   "outputs": [],
   "source": [
    "# URL of the website\n",
    "job_board_url = \"https://aijobs.net\"\n",
    "query = \"/?reg=5\" # north america jobs\n",
    "\n",
    "# Send a GET request to the website\n",
    "response = requests.get(job_board_url + query)\n",
    "\n",
    "# Check if the request was successful\n",
    "if response.status_code == 200:\n",
    "    # Get the HTML content\n",
    "    html_content = response.text\n",
    "else:\n",
    "    print(f\"Failed to retrieve the page. Status code: {response.status_code}\")"
   ]
  },
  {
   "cell_type": "code",
   "execution_count": 3,
   "id": "e304ab1e-985f-4d8d-a214-fb2d0d39aca1",
   "metadata": {
    "scrolled": true
   },
   "outputs": [],
   "source": [
    "# Parse the HTML with BeautifulSoup\n",
    "soup = BeautifulSoup(html_content, 'html.parser')"
   ]
  },
  {
   "cell_type": "code",
   "execution_count": 4,
   "id": "98530b6e-a137-4a4b-8cb3-46cc7ee2c79b",
   "metadata": {},
   "outputs": [],
   "source": [
    "# Find all job links within the <ul> list\n",
    "job_links = soup.select('ul#job-list a.col.py-2[href]')\n",
    "\n",
    "# explanation from ChatGPT:\n",
    "# This selects all <a> tags with class col py-2 inside the <ul> element with id=\"job-list\""
   ]
  },
  {
   "cell_type": "code",
   "execution_count": 5,
   "id": "ca19bfc2-45ca-4b0c-ae92-d95e258d0208",
   "metadata": {
    "scrolled": true
   },
   "outputs": [
    {
     "name": "stdout",
     "output_type": "stream",
     "text": [
      "https://aijobs.net/job/1066507-senior-ai-engineer/\n",
      "https://aijobs.net/job/1140156-scientifique-des-donnees-senior/\n",
      "https://aijobs.net/job/1140154-director-consult-partner-manufacturing-ai/\n",
      "https://aijobs.net/job/1140153-director-consult-partner-utilities-ai/\n",
      "https://aijobs.net/job/1140150-business-analyst-intern-summer-2025/\n",
      "https://aijobs.net/job/1140149-clinical-trials-feasibility-analyst/\n",
      "https://aijobs.net/job/1140148-svp-full-stack-product-manager-hybrid/\n",
      "https://aijobs.net/job/1140147-creative-product-manager-shopping-remote-eligible/\n",
      "https://aijobs.net/job/1140145-senior-manager-pricing-data/\n",
      "https://aijobs.net/job/1140142-actuarial-specialist/\n",
      "https://aijobs.net/job/1140141-banamex-customer-data-sr-mgr-kafka-and-adobe-personalization-tech-lead-c13/\n",
      "https://aijobs.net/job/1140140-integrated-insights-strategy-analyst/\n",
      "https://aijobs.net/job/1140139-avp-quantitative-model-developer-economic-forecasting-hybrid/\n",
      "https://aijobs.net/job/1140137-director-of-product-management-endpoint-technology/\n",
      "https://aijobs.net/job/1140135-manager-product-management-customer-services-strategy-us-card/\n",
      "https://aijobs.net/job/1140133-engineering-senior-manager/\n",
      "https://aijobs.net/job/1140119-algorithm-engineer-image-processing/\n",
      "https://aijobs.net/job/1140118-lead-patient-access-and-navigation-analytics-and-innovation/\n",
      "https://aijobs.net/job/1140097-data-quality-scientist/\n",
      "https://aijobs.net/job/1140096-vp-data-quality-lead-analyst-c13-hybrid/\n",
      "https://aijobs.net/job/1140095-data-quality-senior-analyst-avp-irving/\n",
      "https://aijobs.net/job/1140093-analytics-engineer/\n",
      "https://aijobs.net/job/1140065-svp-data-integration-sr-lead-analyst-c14-hybrid/\n",
      "https://aijobs.net/job/1140055-research-data-analyst-ii/\n",
      "https://aijobs.net/job/1140053-senior-finance-data-analyst/\n",
      "https://aijobs.net/job/1140049-data-analytics-intern/\n",
      "https://aijobs.net/job/1140048-senior-data-analyst/\n",
      "https://aijobs.net/job/1140047-principal-data-analyst/\n",
      "https://aijobs.net/job/1140046-data-analytics-engineer/\n",
      "https://aijobs.net/job/1140045-business-data-analyst-procurement/\n",
      "https://aijobs.net/job/1140044-product-data-analyst-securities-insurance/\n",
      "https://aijobs.net/job/1140041-data-analyst-fraud/\n",
      "https://aijobs.net/job/1140040-2025-enterprise-technology-finance-data-analyst-summer-intern/\n",
      "https://aijobs.net/job/1139991-oneview-data-specialist-i/\n",
      "https://aijobs.net/job/1139990-technology-innovation-data-specialist/\n",
      "https://aijobs.net/job/1139950-product-manager-commercial-banking-aiml/\n",
      "https://aijobs.net/job/1139937-data-science-intern/\n",
      "https://aijobs.net/job/1139936-data-scientist-lead-analyst/\n",
      "https://aijobs.net/job/1139935-data-science-senior-manager/\n",
      "https://aijobs.net/job/1139934-senior-data-scientist/\n",
      "https://aijobs.net/job/1139933-principal-associate-data-scientist-us-card-fraud/\n",
      "https://aijobs.net/job/1139916-senior-data-engineering-manager/\n",
      "https://aijobs.net/job/1139915-data-engineer-microsoft-fabric/\n",
      "https://aijobs.net/job/1139903-applied-ai-scientist/\n",
      "https://aijobs.net/job/1139895-machine-learning-engineer/\n",
      "https://aijobs.net/job/1139894-senior-lead-machine-learning-engineer/\n",
      "https://aijobs.net/job/1139850-data-architect/\n",
      "https://aijobs.net/job/1139848-associate-principal-statistical-programmer/\n",
      "https://aijobs.net/job/1139842-solutions-architect/\n",
      "https://aijobs.net/job/1139841-development-lead/\n"
     ]
    }
   ],
   "source": [
    "# Extract href attributes and create full URLs\n",
    "job_url_list = [job_board_url + link['href'] for link in job_links]\n",
    "\n",
    "for job_url in job_url_list:\n",
    "    print(job_url)"
   ]
  },
  {
   "cell_type": "markdown",
   "id": "1b6f1560-20e9-411e-a3b8-8f3c68b23864",
   "metadata": {},
   "source": [
    "### 2) extract info from one listing"
   ]
  },
  {
   "cell_type": "code",
   "execution_count": 6,
   "id": "27fe31d4-3407-4bab-87b8-43e9390ebd8d",
   "metadata": {},
   "outputs": [],
   "source": [
    "# extract html from job listing (same as cell 2)\n",
    "job_url = job_url_list[0]\n",
    "response = requests.get(job_url)\n",
    "html_content = response.text"
   ]
  },
  {
   "cell_type": "markdown",
   "id": "5363fb9c-e1fc-4948-9ea6-49f89e87dad1",
   "metadata": {},
   "source": [
    "#### pull json data"
   ]
  },
  {
   "cell_type": "code",
   "execution_count": 8,
   "id": "0172107a-3df1-416a-b920-c0265d3047f3",
   "metadata": {},
   "outputs": [
    {
     "name": "stdout",
     "output_type": "stream",
     "text": [
      "Company Name: Lemon.io\n",
      "Job Title: Senior AI Engineer\n",
      "Job Description: Are you a talented Senior AI Engineer looking for a remote job that lets you show your skills and get decent compensation? Look no further than Lemon.io — the marketplace that connects you with hand-picked startups in the US and Europe. What we offer:   The rate depends on your skills and experience. We&#x27;ve already paid out over $11M to our engineers.   No more hunting for clients or negotiating rates — let us handle the business side of things so you can focus on what you do best.   We&#x27...\n",
      "Salary Range: 57000 - 230000 USD\n"
     ]
    }
   ],
   "source": [
    "# Find the script tag containing JSON-LD\n",
    "script_tag = soup.find('script', type='application/ld+json')\n",
    "\n",
    "# Load the JSON content\n",
    "if script_tag:\n",
    "    job_data = json.loads(script_tag.string)\n",
    "\n",
    "    # Extract relevant fields\n",
    "    company_name = job_data['hiringOrganization']['name']\n",
    "    job_title = job_data['title']\n",
    "    job_description = job_data['description']\n",
    "    salary_min = job_data['baseSalary']['value']['minValue']\n",
    "    salary_max = job_data['baseSalary']['value']['maxValue']\n",
    "\n",
    "    # Print extracted data\n",
    "    print(f\"Company Name: {company_name}\")\n",
    "    print(f\"Job Title: {job_title}\")\n",
    "    print(f\"Job Description: {job_description[:500]}...\")\n",
    "    print(f\"Salary Range: {salary_min} - {salary_max} USD\")"
   ]
  },
  {
   "cell_type": "markdown",
   "id": "e1fd248d-03cc-4ca7-b66a-2147267d44c8",
   "metadata": {},
   "source": [
    "### 3) extract info from all listings"
   ]
  },
  {
   "cell_type": "code",
   "execution_count": 9,
   "id": "2a51046c-11de-4ebe-b023-eb09d95d9ab8",
   "metadata": {
    "jupyter": {
     "source_hidden": true
    }
   },
   "outputs": [],
   "source": [
    "# write function to implement way 2\n",
    "\n",
    "def extract_job_info(url):\n",
    "    \"\"\"\n",
    "    Extracts job information from a given job listing URL.\n",
    "\n",
    "    Args:\n",
    "        url (str): The URL of the job listing.\n",
    "\n",
    "    Returns:\n",
    "        dict: A dictionary containing the following key-value pairs:\n",
    "            - 'company_name' (str): Name of the hiring organization.\n",
    "            - 'job_title' (str): Title of the job.\n",
    "            - 'job_description' (str): Detailed description of the job.\n",
    "            - 'salary_min' (float or str): Minimum salary offered for the job.\n",
    "            - 'salary_max' (float or str): Maximum salary offered for the job.\n",
    "               Returns 'N/A' if salary information is unavailable.\n",
    "    \"\"\"\n",
    "    try:\n",
    "        # Fetch the HTML content of the job listing\n",
    "        response = requests.get(url)\n",
    "        response.raise_for_status()  # Raise an error for bad status codes\n",
    "        html_content = response.text\n",
    "        \n",
    "        # Parse the HTML with BeautifulSoup\n",
    "        soup = BeautifulSoup(html_content, 'html.parser')\n",
    "        \n",
    "        # Find the script tag containing JSON-LD\n",
    "        script_tag = soup.find('script', type='application/ld+json')\n",
    "        \n",
    "        if script_tag:\n",
    "            job_data = json.loads(script_tag.string)\n",
    "            \n",
    "            # Extract relevant fields with default values if not present\n",
    "            company_name = job_data.get('hiringOrganization', {}).get('name', 'N/A')\n",
    "            job_title = job_data.get('title', 'N/A')\n",
    "            job_description = job_data.get('description', 'N/A')\n",
    "            salary_data = job_data.get('baseSalary', {}).get('value', {})\n",
    "            salary_min = salary_data.get('minValue', 'N/A')\n",
    "            salary_max = salary_data.get('maxValue', 'N/A')\n",
    "            \n",
    "            return {\n",
    "                'company_name': company_name,\n",
    "                'job_title': job_title,\n",
    "                'job_description': job_description,\n",
    "                'salary_min': salary_min,\n",
    "                'salary_max': salary_max\n",
    "            }\n",
    "        else:\n",
    "            return {'error': 'No JSON-LD script found in the page'}\n",
    "    \n",
    "    except requests.RequestException as e:\n",
    "        return {'error': f\"Request failed: {e}\"}\n",
    "    \n",
    "    except json.JSONDecodeError:\n",
    "        return {'error': 'Failed to parse JSON-LD content'}\n",
    "    \n",
    "    except Exception as e:\n",
    "        return {'error': f\"An unexpected error occurred: {e}\"}"
   ]
  },
  {
   "cell_type": "code",
   "execution_count": 10,
   "id": "21d904f6-f86f-47c9-8b24-756fd69167ef",
   "metadata": {},
   "outputs": [
    {
     "name": "stdout",
     "output_type": "stream",
     "text": [
      "Senior AI Engineer\n",
      "Scientifique des données senior\n",
      "Director, Consult Partner - Manufacturing / AI\n",
      "Director, Consult Partner - Utilities / AI\n",
      "Business Analyst Intern - Summer 2025\n",
      "Clinical Trials Feasibility Analyst\n",
      "SVP, Full-Stack Product Manager (Hybrid)\n",
      "Creative Product Manager, Shopping (Remote-Eligible)\n",
      "Senior Manager, Pricing Data\n",
      "Actuarial Specialist\n",
      "BANAMEX - Customer Data Sr Mgr – (Kafka and Adobe) Personalization Tech Lead C13\n",
      "Integrated Insights &amp; Strategy Analyst\n",
      "AVP Quantitative Model Developer – Economic Forecasting (Hybrid)\n",
      "Director of Product Management - Endpoint Technology\n",
      "Manager, Product Management - Customer Services &amp; Strategy (US Card)\n",
      "Engineering Senior Manager\n",
      "Algorithm Engineer (Image Processing)\n",
      "Lead, Patient Access and Navigation Analytics and Innovation\n",
      "Data Quality Scientist\n",
      "VP, Data Quality Lead Analyst - C13 (Hybrid)\n",
      "Data Quality Senior Analyst - AVP - IRVING\n",
      "Analytics Engineer\n",
      "SVP, Data Integration Sr Lead Analyst - C14 (Hybrid)\n",
      "Research Data Analyst II\n",
      "Senior Finance Data Analyst\n",
      "Data Analytics Intern\n",
      "Senior Data Analyst\n",
      "Principal Data Analyst\n",
      "Data Analytics Engineer\n",
      "Business Data Analyst - Procurement\n",
      "Product Data Analyst - Securities / Insurance\n",
      "Data Analyst, Fraud\n",
      "2025 Enterprise Technology Finance – Data Analyst Summer Intern\n",
      "OneView Data Specialist I\n",
      "Technology Innovation &amp; Data Specialist\n",
      "Product Manager, Commercial Banking AI/ML\n",
      "Data Science Intern\n",
      "Data Scientist Lead Analyst\n",
      "Data Science Senior Manager\n",
      "Senior Data Scientist\n",
      "Principal Associate, Data Scientist - US Card (Fraud)\n",
      "Senior Data Engineering Manager\n",
      "Data Engineer - Microsoft Fabric\n",
      "Applied AI Scientist\n",
      "Machine Learning Engineer\n",
      "Senior Lead Machine Learning Engineer\n",
      "Data Architect\n",
      "Associate Principal Statistical Programmer\n",
      "Solutions Architect\n",
      "Development Lead\n"
     ]
    }
   ],
   "source": [
    "# extract job info from all job urls\n",
    "job_info_list = []\n",
    "\n",
    "for job_url in job_url_list:\n",
    "    # extract job info\n",
    "    job_info = extract_job_info(job_url)\n",
    "\n",
    "    # store results in list if no errors occured\n",
    "    try:\n",
    "        print(job_info[\"job_title\"])\n",
    "        job_info_list.append(job_info)\n",
    "    except:\n",
    "        print(f\"Could not extract info from: {job_url}\")\n",
    "        continue"
   ]
  },
  {
   "cell_type": "markdown",
   "id": "a1e0fa43-3211-4801-a9c5-60155da726c7",
   "metadata": {},
   "source": [
    "### 4) Store data in Pandas dataframe"
   ]
  },
  {
   "cell_type": "code",
   "execution_count": 11,
   "id": "52d92b38-51dc-4b90-8af3-303eb23832c5",
   "metadata": {},
   "outputs": [
    {
     "data": {
      "text/html": [
       "<div>\n",
       "<style scoped>\n",
       "    .dataframe tbody tr th:only-of-type {\n",
       "        vertical-align: middle;\n",
       "    }\n",
       "\n",
       "    .dataframe tbody tr th {\n",
       "        vertical-align: top;\n",
       "    }\n",
       "\n",
       "    .dataframe thead th {\n",
       "        text-align: right;\n",
       "    }\n",
       "</style>\n",
       "<table border=\"1\" class=\"dataframe\">\n",
       "  <thead>\n",
       "    <tr style=\"text-align: right;\">\n",
       "      <th></th>\n",
       "      <th>company_name</th>\n",
       "      <th>job_title</th>\n",
       "      <th>job_description</th>\n",
       "      <th>salary_min</th>\n",
       "      <th>salary_max</th>\n",
       "    </tr>\n",
       "  </thead>\n",
       "  <tbody>\n",
       "    <tr>\n",
       "      <th>0</th>\n",
       "      <td>Lemon.io</td>\n",
       "      <td>Senior AI Engineer</td>\n",
       "      <td>Are you a talented Senior AI Engineer looking ...</td>\n",
       "      <td>57000</td>\n",
       "      <td>230000</td>\n",
       "    </tr>\n",
       "    <tr>\n",
       "      <th>1</th>\n",
       "      <td>Aviva</td>\n",
       "      <td>Scientifique des données senior</td>\n",
       "      <td>Individuellement, nous sommes des personnes, m...</td>\n",
       "      <td>82368</td>\n",
       "      <td>192192</td>\n",
       "    </tr>\n",
       "    <tr>\n",
       "      <th>2</th>\n",
       "      <td>Kyndryl</td>\n",
       "      <td>Director, Consult Partner - Manufacturing / AI</td>\n",
       "      <td>Who We AreAt Kyndryl, we design, build, manage...</td>\n",
       "      <td>151560</td>\n",
       "      <td>327240</td>\n",
       "    </tr>\n",
       "    <tr>\n",
       "      <th>3</th>\n",
       "      <td>Kyndryl</td>\n",
       "      <td>Director, Consult Partner - Utilities / AI</td>\n",
       "      <td>Who We AreAt Kyndryl, we design, build, manage...</td>\n",
       "      <td>151560</td>\n",
       "      <td>327240</td>\n",
       "    </tr>\n",
       "    <tr>\n",
       "      <th>4</th>\n",
       "      <td>CACI International Inc</td>\n",
       "      <td>Business Analyst Intern - Summer 2025</td>\n",
       "      <td>Business Analyst Intern - Summer 2025Job Categ...</td>\n",
       "      <td>43900</td>\n",
       "      <td>87800</td>\n",
       "    </tr>\n",
       "  </tbody>\n",
       "</table>\n",
       "</div>"
      ],
      "text/plain": [
       "             company_name                                       job_title  \\\n",
       "0                Lemon.io                              Senior AI Engineer   \n",
       "1                   Aviva                 Scientifique des données senior   \n",
       "2                 Kyndryl  Director, Consult Partner - Manufacturing / AI   \n",
       "3                 Kyndryl      Director, Consult Partner - Utilities / AI   \n",
       "4  CACI International Inc           Business Analyst Intern - Summer 2025   \n",
       "\n",
       "                                     job_description salary_min salary_max  \n",
       "0  Are you a talented Senior AI Engineer looking ...      57000     230000  \n",
       "1  Individuellement, nous sommes des personnes, m...      82368     192192  \n",
       "2  Who We AreAt Kyndryl, we design, build, manage...     151560     327240  \n",
       "3  Who We AreAt Kyndryl, we design, build, manage...     151560     327240  \n",
       "4  Business Analyst Intern - Summer 2025Job Categ...      43900      87800  "
      ]
     },
     "execution_count": 11,
     "metadata": {},
     "output_type": "execute_result"
    }
   ],
   "source": [
    "df = pd.DataFrame(job_info_list)\n",
    "df.head()"
   ]
  },
  {
   "cell_type": "code",
   "execution_count": 12,
   "id": "b73e72fb-814d-4aa2-8041-cde73af282e4",
   "metadata": {},
   "outputs": [],
   "source": [
    "# save to file\n",
    "df.to_csv(\"data/ai_job_data.csv\", index=False)"
   ]
  },
  {
   "cell_type": "markdown",
   "id": "1968ba43-560f-4c07-8482-c4e258c188f5",
   "metadata": {},
   "source": [
    "#### Future directions\n",
    "- extract other fields from job listings e.g. tags, key skills\n",
    "- add filters to job search e.g. remote, Product, salary"
   ]
  },
  {
   "cell_type": "code",
   "execution_count": null,
   "id": "f382ffd9-e988-43d4-91e3-61dddaa66028",
   "metadata": {},
   "outputs": [],
   "source": []
  }
 ],
 "metadata": {
  "kernelspec": {
   "display_name": "Python 3 (ipykernel)",
   "language": "python",
   "name": "python3"
  },
  "language_info": {
   "codemirror_mode": {
    "name": "ipython",
    "version": 3
   },
   "file_extension": ".py",
   "mimetype": "text/x-python",
   "name": "python",
   "nbconvert_exporter": "python",
   "pygments_lexer": "ipython3",
   "version": "3.12.2"
  }
 },
 "nbformat": 4,
 "nbformat_minor": 5
}
