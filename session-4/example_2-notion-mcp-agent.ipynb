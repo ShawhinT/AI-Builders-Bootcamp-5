{
 "cells": [
  {
   "cell_type": "markdown",
   "id": "8c2d949d-266f-411e-875e-b2af2828b019",
   "metadata": {},
   "source": [
    "# Notion MCP Agent\n",
    "## ABB #5 - Session 4\n",
    "\n",
    "Code authored by: Shaw Talebi"
   ]
  },
  {
   "cell_type": "markdown",
   "id": "89caf2ed-7601-4f32-8570-8a019648805d",
   "metadata": {},
   "source": [
    "### imports"
   ]
  },
  {
   "cell_type": "code",
   "execution_count": 1,
   "id": "f6636f2b-6e1c-4a74-b8d6-bf58e0f19774",
   "metadata": {},
   "outputs": [
    {
     "data": {
      "text/plain": [
       "True"
      ]
     },
     "execution_count": 1,
     "metadata": {},
     "output_type": "execute_result"
    }
   ],
   "source": [
    "from agents.mcp.server import MCPServerStdio, MCPServer\n",
    "from agents import Agent, Runner, gen_trace_id, trace, ModelSettings\n",
    "from openai.types.responses import ResponseTextDeltaEvent\n",
    "import os\n",
    "import asyncio\n",
    "\n",
    "from dotenv import load_dotenv\n",
    "load_dotenv()"
   ]
  },
  {
   "cell_type": "code",
   "execution_count": 2,
   "id": "82331ab5-fc49-4045-9e62-366250f63034",
   "metadata": {
    "jupyter": {
     "source_hidden": true
    }
   },
   "outputs": [],
   "source": [
    "import logging\n",
    "# Suppress httpx INFO logs to reduce console output\n",
    "logging.getLogger(\"httpx\").setLevel(logging.WARNING)"
   ]
  },
  {
   "cell_type": "code",
   "execution_count": 3,
   "id": "4225661e-e24d-4374-9c12-c7da2c3c6955",
   "metadata": {},
   "outputs": [],
   "source": [
    "# import notion api key\n",
    "notion_key = os.getenv(\"NOTION_API_KEY\")"
   ]
  },
  {
   "cell_type": "markdown",
   "id": "1f1994b3-97dd-4e7d-8626-1ff752d9a005",
   "metadata": {},
   "source": [
    "### explore MCP server tools"
   ]
  },
  {
   "cell_type": "code",
   "execution_count": 4,
   "id": "c8ee489b-0e6a-41cf-ba45-e7d7eb57daae",
   "metadata": {},
   "outputs": [],
   "source": [
    "async with MCPServerStdio(\n",
    "    params={\n",
    "        \"command\": \"npx\",\n",
    "        \"args\": [\"-y\", \"@notionhq/notion-mcp-server\"],\n",
    "        \"env\": {\n",
    "        \"OPENAPI_MCP_HEADERS\": \"{\\\"Authorization\\\": \\\"Bearer \" + notion_key + \"\\\", \\\"Notion-Version\\\": \\\"2022-06-28\\\" }\"\n",
    "        }\n",
    "    }\n",
    ") as server:\n",
    "    tool_list = await server.list_tools()"
   ]
  },
  {
   "cell_type": "code",
   "execution_count": 5,
   "id": "5b69e98b-7fe4-4f5d-aad2-eaca1265d53a",
   "metadata": {},
   "outputs": [
    {
     "name": "stdout",
     "output_type": "stream",
     "text": [
      "['API-get-user', 'API-get-users', 'API-get-self', 'API-post-database-query', 'API-post-search', 'API-get-block-children', 'API-patch-block-children', 'API-retrieve-a-block', 'API-update-a-block', 'API-delete-a-block', 'API-retrieve-a-page', 'API-patch-page', 'API-post-page', 'API-create-a-database', 'API-update-a-database', 'API-retrieve-a-database', 'API-retrieve-a-page-property', 'API-retrieve-a-comment', 'API-create-a-comment']\n"
     ]
    }
   ],
   "source": [
    "toolname_list = [tool.name for tool in tool_list]\n",
    "print(toolname_list)"
   ]
  },
  {
   "cell_type": "code",
   "execution_count": 6,
   "id": "b271371d-7fc6-4883-811e-721e1a428cc3",
   "metadata": {},
   "outputs": [
    {
     "data": {
      "text/plain": [
       "['Retrieve a user\\nError Responses:\\n400: 400',\n",
       " 'List all users\\nError Responses:\\n400: 400',\n",
       " \"Retrieve your token's bot user\",\n",
       " 'Query a database',\n",
       " 'Search by title',\n",
       " 'Retrieve block children',\n",
       " 'Append block children',\n",
       " 'Retrieve a block',\n",
       " 'Update a block',\n",
       " 'Delete a block',\n",
       " 'Retrieve a page',\n",
       " 'Update page properties',\n",
       " 'Create a page',\n",
       " 'Create a database',\n",
       " 'Update a database',\n",
       " 'Retrieve a database',\n",
       " 'Retrieve a page property item',\n",
       " 'Retrieve comments',\n",
       " 'Create comment']"
      ]
     },
     "execution_count": 6,
     "metadata": {},
     "output_type": "execute_result"
    }
   ],
   "source": [
    "[tool.description for tool in tool_list]"
   ]
  },
  {
   "cell_type": "markdown",
   "id": "6e846f00-5d9b-4718-824c-092db58b8168",
   "metadata": {},
   "source": [
    "### create main with MCP server"
   ]
  },
  {
   "cell_type": "code",
   "execution_count": 7,
   "id": "2fe26cef-2f48-4d36-af5f-57814fa2969e",
   "metadata": {},
   "outputs": [],
   "source": [
    "async def main():\n",
    "    \n",
    "    async with MCPServerStdio(\n",
    "        params={\n",
    "            \"command\": \"npx\",\n",
    "            \"args\": [\"-y\", \"@notionhq/notion-mcp-server\"],\n",
    "            \"env\": {\n",
    "            \"OPENAPI_MCP_HEADERS\": \"{\\\"Authorization\\\": \\\"Bearer \" + notion_key + \"\\\", \\\"Notion-Version\\\": \\\"2022-06-28\\\" }\"\n",
    "            }\n",
    "        }\n",
    "    ) as server:\n",
    "        trace_id = gen_trace_id()\n",
    "        with trace(workflow_name=\"Notion Agent Example\", trace_id=trace_id):\n",
    "            print(f\"View trace: https://platform.openai.com/traces/trace?trace_id={trace_id}\\n\")\n",
    "            await run(server)\n",
    "        \n",
    "        tools = await server.list_tools()"
   ]
  },
  {
   "cell_type": "markdown",
   "id": "cabd3aee-59bd-424c-9fa9-1f97d8abd6da",
   "metadata": {
    "scrolled": true
   },
   "source": [
    "### create run() with agent"
   ]
  },
  {
   "cell_type": "code",
   "execution_count": 8,
   "id": "7c866d92-2da4-44d0-a669-c5d2578ff2d5",
   "metadata": {},
   "outputs": [],
   "source": [
    "with open('context/example-2/instructions.md', 'r', encoding='utf-8') as file:\n",
    "    instructions = file.read()"
   ]
  },
  {
   "cell_type": "code",
   "execution_count": 9,
   "id": "f250f29f",
   "metadata": {},
   "outputs": [],
   "source": [
    "async def run(mcp_server: MCPServer):\n",
    "    agent = Agent(\n",
    "        name=\"Notion Agent\",\n",
    "        model=\"gpt-4.1-2025-04-14\",\n",
    "        instructions=instructions,\n",
    "        mcp_servers=[mcp_server],\n",
    "    )\n",
    "    ModelSettings.tool_choice = \"required\"\n",
    "    \n",
    "    input_items = []\n",
    "\n",
    "    print(\"=== Notion AI Agent ===\")\n",
    "    print(\"Type 'exit' to end the conversation\")\n",
    "\n",
    "    while True:\n",
    "        # Get user input\n",
    "        user_input = input(\"\\nUser: \").strip()\n",
    "        input_items.append({\"content\": user_input, \"role\": \"user\"})\n",
    "        \n",
    "        # Check for exit command\n",
    "        if user_input.lower() in ['exit', 'quit', 'bye']:\n",
    "            print(\"\\nGoodbye!\")\n",
    "            break\n",
    "            \n",
    "        if not user_input:\n",
    "            continue\n",
    "\n",
    "        print(\"\\nAgent: \", end=\"\", flush=True)\n",
    "        result = Runner.run_streamed(\n",
    "            agent,\n",
    "            input=input_items,\n",
    "        )\n",
    "        \n",
    "        async for event in result.stream_events():\n",
    "            # We'll ignore the raw responses event deltas for text\n",
    "            if event.type == \"raw_response_event\" and isinstance(event.data, ResponseTextDeltaEvent):\n",
    "                print(event.data.delta, end=\"\", flush=True)\n",
    "            elif event.type == \"run_item_stream_event\":\n",
    "                if event.item.type == \"tool_call_item\":\n",
    "                    print(f\"\\n-- Calling Tool: {event.item.raw_item.name}...\")\n",
    "                elif event.item.type == \"tool_call_output_item\":\n",
    "                    print(\"-- Tool call completed.\")\n",
    "                elif event.item.type == \"message_output_item\":\n",
    "                    input_items.append({\"content\": f\"{event.item.raw_item.content[0].text}\", \"role\": \"assistant\"})\n",
    "                else:\n",
    "                    pass  # Ignore other event types\n",
    "\n",
    "        print(\"\\n\")  # Add a newline after each response"
   ]
  },
  {
   "cell_type": "markdown",
   "id": "878a207c-44de-4397-923a-e6a932004a2f",
   "metadata": {},
   "source": [
    "### run agent"
   ]
  },
  {
   "cell_type": "code",
   "execution_count": 10,
   "id": "e4eee149-6f97-4a9a-88d7-652819156c69",
   "metadata": {},
   "outputs": [
    {
     "name": "stdout",
     "output_type": "stream",
     "text": [
      "View trace: https://platform.openai.com/traces/trace?trace_id=trace_4cfc2ad55e844e178297fd1b6157821f\n",
      "\n",
      "=== Notion AI Agent ===\n",
      "Type 'exit' to end the conversation\n"
     ]
    },
    {
     "name": "stdin",
     "output_type": "stream",
     "text": [
      "\n",
      "User:  find me posts about AI consulting\n"
     ]
    },
    {
     "name": "stdout",
     "output_type": "stream",
     "text": [
      "\n",
      "Agent: \n",
      "-- Calling Tool: API-post-search...\n",
      "-- Tool call completed.\n",
      "Here are some recent posts about AI consulting in the notes:\n",
      "\n",
      "1. **How to find (in-demand) AI freelancing service using ChatGPT**\n",
      "   - Title suggests a deep dive into using ChatGPT as a tool to discover actual market needs for AI consulting/freelancing.\n",
      "\n",
      "2. **AI won’t make you rich (solving problems will)**\n",
      "   - This post likely discusses the reality that technical skills alone aren’t enough—solving real client problems is what creates a sustainable consulting business.\n",
      "\n",
      "3. **Quitting Consulting**\n",
      "   - A transparent post about leaving consulting to focus on YouTube, along with reasons for the decision.\n",
      "   - Covers consulting as a career option and when it might make sense to pivot.\n",
      "\n",
      "Would you like the full content of any of these posts? If so, let me know which one you want to see or if you want a summary/analysis!\n",
      "\n"
     ]
    },
    {
     "name": "stdin",
     "output_type": "stream",
     "text": [
      "\n",
      "User:  Find the upcoming post on motivation and write a draft for it\n"
     ]
    },
    {
     "name": "stdout",
     "output_type": "stream",
     "text": [
      "\n",
      "Agent: \n",
      "-- Calling Tool: API-post-search...\n",
      "-- Tool call completed.\n",
      "\n",
      "-- Calling Tool: API-retrieve-a-page...\n",
      "-- Tool call completed.\n",
      "\n",
      "-- Calling Tool: API-get-block-children...\n",
      "-- Tool call completed.\n",
      "I found an upcoming post titled “Motivation hack: don’t do it for yourself,” scheduled for June 30, 2025. However, there is no body content or additional notes in the draft—just the title.\n",
      "\n",
      "Given the clear rules against motivational or reflection-based language, and since I can’t fabricate Shaw’s personal experience, here is a draft that follows your guidelines, uses only literal language, and puts the focus on a practical, technical angle based on the prompt.\n",
      "\n",
      "---\n",
      "\n",
      "Step 1: Purpose & Audience\n",
      "- Purpose: Share an actionable mindset shift for staying motivated, grounded in external accountability (not self-focused motivation).\n",
      "- Audience: Builders, solo entrepreneurs, and technical creators facing dips in motivation.\n",
      "\n",
      "Step 2: Wireframe\n",
      "- Hook: A literal, curiosity-driven line based on the title.\n",
      "- Body: Explain why doing things for others (clients, community, colleagues) can instill stronger habits than focusing on self-motivation. Reference only common experience or observed behavior, not fabricated personal stories.\n",
      "- CTA: Ask about practical accountability strategies.\n",
      "\n",
      "Step 3: Body Draft\n",
      "Most people try to “motivate themselves” and then stall out when energy drops. When the work is about delivering for a team, a client, or a group, it’s easier to stay consistent. You are less likely to skip steps or deadlines.\n",
      "\n",
      "Step 4: CTA\n",
      "What practical strategies do you use to keep yourself accountable to others?\n",
      "\n",
      "Step 5: Hook Directions\n",
      "\n",
      "1. [User’s own phrasing] “Motivation hack: don’t do it for yourself”\n",
      "2. [Beginner/expert clarity] “Trying to motivate yourself? There’s a simpler way.”\n",
      "3. [Problem/solution] “Self-motivation fails for most—external accountability changes the equation.”\n",
      "4. [Trend/urgency] “The most reliable productivity systems don’t depend on willpower.”\n",
      "5. [Practical/callout] “Consistency is easier when other people are counting on you.”\n",
      "\n",
      "Step 6: Choose the strongest hook\n",
      "Option 1 (user title) and option 3 are most on brand. Option 3 is the sharpest and in Shaw’s style.\n",
      "\n",
      "Step 7: Draft Full Post\n",
      "\n",
      "Self-motivation fails for most—external accountability changes the equation.\n",
      "\n",
      "Most people try to “motivate themselves” and then stall out when energy drops.\n",
      "\n",
      "But when the work means shipping for a client, meeting a group deadline, or supporting your community, motivation becomes less of a daily struggle.\n",
      "\n",
      "Consistency comes from having stakes outside yourself.\n",
      "\n",
      "What practical strategies do you use to stay accountable to others?\n",
      "\n",
      "Step 8: Final Review\n",
      "\n",
      "- Em dash audit: Only one, justified for clarity.\n",
      "- No motivational or figurative language.\n",
      "- CTA is practical and grounded.\n",
      "- Factual, not personal, lens—complies with authenticity.\n",
      "- Matches Shaw’s style per examples above.\n",
      "\n",
      "---\n",
      "\n",
      "Final Post:\n",
      "\n",
      "Self-motivation fails for most—external accountability changes the equation.\n",
      "\n",
      "Most people try to “motivate themselves” and then stall out when energy drops.\n",
      "\n",
      "But when the work means shipping for a client, meeting a group deadline, or supporting your community, motivation becomes less of a daily struggle.\n",
      "\n",
      "Consistency comes from having stakes outside yourself.\n",
      "\n",
      "What practical strategies do you use to stay accountable to others?\n",
      "\n"
     ]
    },
    {
     "name": "stdin",
     "output_type": "stream",
     "text": [
      "\n",
      "User:  Try starting it with the following:\n"
     ]
    },
    {
     "name": "stdout",
     "output_type": "stream",
     "text": [
      "\n",
      "Agent: It looks like your message got cut off—could you please share how you’d like the post to start? I’m ready to help you rewrite the draft with your preferred opening.\n",
      "\n"
     ]
    },
    {
     "name": "stdin",
     "output_type": "stream",
     "text": [
      "\n",
      "User:  Motivation Hack: Don’t do it for yourself (do it for others). It's easy to procrastinate (or just give up) when you're the only one who's effected by your work.\n"
     ]
    },
    {
     "name": "stdout",
     "output_type": "stream",
     "text": [
      "\n",
      "Agent: Thank you! Here’s how I’ll proceed, following your instructions and guidelines:\n",
      "\n",
      "---\n",
      "\n",
      "**Step 1: Purpose & Audience**  \n",
      "- **Purpose:** Share a practical approach to motivation focused on external accountability (not self-motivation).  \n",
      "- **Audience:** Builders, creators, and solo entrepreneurs who struggle with motivation.\n",
      "\n",
      "**Step 2: Wireframe**  \n",
      "- Hook: Your provided line.  \n",
      "- Body: Briefly explain why “doing it for others” is more reliable than self-motivation, in a literal and practical way.  \n",
      "- CTA: Ask for the reader’s practical methods of holding themselves accountable to others.\n",
      "\n",
      "**Step 3: The Body**  \n",
      "Most people find it’s much easier to keep going when someone else is counting on them. If your deadline only affects you, it’s easy to push it off—until tomorrow turns into next month. But when you’ve made a commitment to a client, a teammate, or even a small group, procrastination drops. You have built-in accountability.\n",
      "\n",
      "**Step 4: CTA**  \n",
      "What’s one method you’ve used to keep yourself accountable to others?\n",
      "\n",
      "**Step 5: Hook Already Provided**  \n",
      "“Motivation Hack: Don’t do it for yourself (do it for others). It's easy to procrastinate (or just give up) when you're the only one who's effected by your work.”\n",
      "\n",
      "**Step 6: Draft the Full Post**\n",
      "\n",
      "Motivation Hack: Don’t do it for yourself (do it for others). It's easy to procrastinate (or just give up) when you're the only one who's effected by your work.\n",
      "\n",
      "Most people find it’s much easier to keep going when someone else is counting on them. If your deadline only affects you, it’s easy to push it off—until tomorrow turns into next month. But when you’ve made a commitment to a client, a teammate, or even a small group, procrastination drops. You have built-in accountability.\n",
      "\n",
      "What’s one method you’ve used to keep yourself accountable to others?\n",
      "\n",
      "**Step 7: Review for Style, Voice, and Flow**  \n",
      "- Only one em dash (“—”).  \n",
      "- No motivational language or business clichés.  \n",
      "- Literal, direct, practical.  \n",
      "- CTA is factual and asks for a specific example.\n",
      "\n",
      "**Step 8: Final Post**\n",
      "\n",
      "---\n",
      "\n",
      "Motivation Hack: Don’t do it for yourself (do it for others). It's easy to procrastinate (or just give up) when you're the only one who's effected by your work.\n",
      "\n",
      "Most people find it’s much easier to keep going when someone else is counting on them. If your deadline only affects you, it’s easy to push it off—until tomorrow turns into next month. But when you’ve made a commitment to a client, a teammate, or even a small group, procrastination drops. You have built-in accountability.\n",
      "\n",
      "What’s one method you’ve used to keep yourself accountable to others?\n",
      "\n"
     ]
    },
    {
     "name": "stdin",
     "output_type": "stream",
     "text": [
      "\n",
      "User:  exit\n"
     ]
    },
    {
     "name": "stdout",
     "output_type": "stream",
     "text": [
      "\n",
      "Goodbye!\n"
     ]
    },
    {
     "name": "stdout",
     "output_type": "stream",
     "text": [
      "\n",
      "User:  Return post ideas about business and entrepreneurship\n"
     ]
    }
   ],
   "source": [
    "await main()\n",
    "# find me posts about AI consulting"
   ]
  },
  {
   "cell_type": "code",
   "execution_count": 11,
   "id": "6c708192-577b-4432-934a-e49d99b07e4b",
   "metadata": {
    "jupyter": {
     "source_hidden": true
    }
   },
   "outputs": [],
   "source": [
    "# # to run in a .py script use\n",
    "# if __name__ == \"__main__\":\n",
    "#     asyncio.run(main())"
   ]
  }
 ],
 "metadata": {
  "kernelspec": {
   "display_name": "Python 3 (ipykernel)",
   "language": "python",
   "name": "python3"
  },
  "language_info": {
   "codemirror_mode": {
    "name": "ipython",
    "version": 3
   },
   "file_extension": ".py",
   "mimetype": "text/x-python",
   "name": "python",
   "nbconvert_exporter": "python",
   "pygments_lexer": "ipython3",
   "version": "3.12.10"
  }
 },
 "nbformat": 4,
 "nbformat_minor": 5
}
